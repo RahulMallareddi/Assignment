{
 "cells": [
  {
   "cell_type": "markdown",
   "metadata": {},
   "source": [
    "**Exercise 1: Prime Numbers**\n",
    "Write a Python program that checks whether a given number is prime or not. A prime number is a natural number greater than 1 that has no positive divisors other than 1 and itself."
   ]
  },
  {
   "cell_type": "code",
   "execution_count": 1,
   "metadata": {},
   "outputs": [
    {
     "name": "stdout",
     "output_type": "stream",
     "text": [
      "Enter a number: 31\n",
      "31 is a prime number\n"
     ]
    }
   ],
   "source": [
    "#Exercise 1: Prime Numbers\n",
    "\n",
    "# input from the user\n",
    "num = int(input(\"Enter a number: \"))\n",
    "\n",
    "if num == 1:\n",
    "    print(num, \"is not a prime number\")\n",
    "elif num > 1:\n",
    "    # check for factors\n",
    "    for i in range(2,num):\n",
    "        if (num % i) == 0:\n",
    "            print(num,\"is not a prime number\")\n",
    "            break\n",
    "    else:\n",
    "        print(num,\"is a prime number\")\n",
    "\n",
    "# if input number is less than or equal to 1, it is not prime\n",
    "else:\n",
    "    print(num,\"is not a prime number\")"
   ]
  },
  {
   "cell_type": "markdown",
   "metadata": {},
   "source": [
    "**Exercise 2: Product of Random Numbers**\n",
    "Develop a Python program that generates two random numbers and asks the user to enter the product of these numbers. The program should then check if the user's answer is correct and display an appropriate message."
   ]
  },
  {
   "cell_type": "code",
   "execution_count": 2,
   "metadata": {},
   "outputs": [
    {
     "name": "stdout",
     "output_type": "stream",
     "text": [
      "The two random numer are: 408 128\n",
      "Enter the multiplication of the given two numers:52220\n",
      "Your output is wrong. The multiplication of the given numer is: 52224\n"
     ]
    },
    {
     "data": {
      "text/plain": [
       "[None]"
      ]
     },
     "execution_count": 2,
     "metadata": {},
     "output_type": "execute_result"
    }
   ],
   "source": [
    "#Exercise 2: Product of Random Numbers\n",
    "\n",
    "# importing the random module\n",
    "import random\n",
    "\n",
    "#Generate two random numer and store in a variable\n",
    "a=random.randint(0,1000)\n",
    "b=random.randint(0,1000)\n",
    "\n",
    "print(\"The two random numer are:\",a,b)\n",
    "\n",
    "#Asking as input the multiplication of the given random numbers\n",
    "c=int(input(\"Enter the multiplication of the given two numers:\"))\n",
    "\n",
    "#Comparing the given input with value a*b and accordingly printing\n",
    "[print(\"You output is right\") if(c==(a*b)) else print(\"Your output is wrong. The multiplication of the given numer is:\",a*b)]"
   ]
  },
  {
   "cell_type": "markdown",
   "metadata": {},
   "source": [
    "**Exercise 3: Squares of Even/Odd Numbers**\n",
    "Create a Python script that prints the squares of all even or odd numbers within the range of 100 to 200. Choose either even or odd numbers and document your choice in the code."
   ]
  },
  {
   "cell_type": "code",
   "execution_count": 3,
   "metadata": {},
   "outputs": [
    {
     "data": {
      "text/plain": [
       "[(100, 10000),\n",
       " (102, 10404),\n",
       " (104, 10816),\n",
       " (106, 11236),\n",
       " (108, 11664),\n",
       " (110, 12100),\n",
       " (112, 12544),\n",
       " (114, 12996),\n",
       " (116, 13456),\n",
       " (118, 13924),\n",
       " (120, 14400),\n",
       " (122, 14884),\n",
       " (124, 15376),\n",
       " (126, 15876),\n",
       " (128, 16384),\n",
       " (130, 16900),\n",
       " (132, 17424),\n",
       " (134, 17956),\n",
       " (136, 18496),\n",
       " (138, 19044),\n",
       " (140, 19600),\n",
       " (142, 20164),\n",
       " (144, 20736),\n",
       " (146, 21316),\n",
       " (148, 21904),\n",
       " (150, 22500),\n",
       " (152, 23104),\n",
       " (154, 23716),\n",
       " (156, 24336),\n",
       " (158, 24964),\n",
       " (160, 25600),\n",
       " (162, 26244),\n",
       " (164, 26896),\n",
       " (166, 27556),\n",
       " (168, 28224),\n",
       " (170, 28900),\n",
       " (172, 29584),\n",
       " (174, 30276),\n",
       " (176, 30976),\n",
       " (178, 31684),\n",
       " (180, 32400),\n",
       " (182, 33124),\n",
       " (184, 33856),\n",
       " (186, 34596),\n",
       " (188, 35344),\n",
       " (190, 36100),\n",
       " (192, 36864),\n",
       " (194, 37636),\n",
       " (196, 38416),\n",
       " (198, 39204),\n",
       " (200, 40000)]"
      ]
     },
     "execution_count": 3,
     "metadata": {},
     "output_type": "execute_result"
    }
   ],
   "source": [
    "#Exercise 3: Squares of Even/Odd Numbers\n",
    "\n",
    "# Taking even number within 100 to 200 and performing the square of the number\n",
    "# Displaying the even number first than it's square\n",
    "[(i,i**2) for i in range(100,201) if(i%2==0)]"
   ]
  },
  {
   "cell_type": "markdown",
   "metadata": {},
   "source": [
    "**Exercise 4: Word counter**\n",
    "write a program to count the number of words in a given text."
   ]
  },
  {
   "cell_type": "code",
   "execution_count": 4,
   "metadata": {},
   "outputs": [
    {
     "name": "stdout",
     "output_type": "stream",
     "text": [
      "Enter the input text here:This is a sample text. This text will be used to demonstrate the word counter.\n",
      "{'This': 2, 'is': 1, 'a': 1, 'sample': 1, 'text': 2, 'will': 1, 'be': 1, 'used': 1, 'to': 1, 'demonstrate': 1, 'the': 1, 'word': 1, 'counter': 1}\n"
     ]
    }
   ],
   "source": [
    "#Exercise 4: Word counter\n",
    "\n",
    "text=input(\"Enter the input text here:\")\n",
    "\n",
    "# Create an empty dictionary named 'counts' to store word frequencies.\n",
    "counts = dict()\n",
    "\n",
    "# Removing the . from sentence if any\n",
    "text= text.replace(\".\", \"\")\n",
    "\n",
    "# Split the input string 'str' into a list of words with spaces as delimiter.\n",
    "words = text.split(\" \")\n",
    "\n",
    "# Iterate through each word in the list.\n",
    "for word in words:\n",
    "    # Check if the word is already in the 'counts' dictionary.\n",
    "    if word in counts:\n",
    "        # If the word is already in the dictionary, increment its frequency by 1.\n",
    "        counts[word] += 1\n",
    "    else:\n",
    "        # If the word is not in the dictionary, add it to the dictionary with a frequency of 1.\n",
    "        counts[word] = 1\n",
    "\n",
    "# print the results.\n",
    "print(counts)"
   ]
  },
  {
   "cell_type": "markdown",
   "metadata": {},
   "source": [
    "**Exercise 5: Check for Palindrome**\n",
    "Write a Python function called is_palindrome that takes a string as input and returns True if the string is a palindrome, and False otherwise. A palindrome is a word, phrase, number, or other sequence of characters that reads the same forward and backward, ignoring spaces, punctuation, and capitalization."
   ]
  },
  {
   "cell_type": "code",
   "execution_count": 5,
   "metadata": {},
   "outputs": [
    {
     "name": "stdout",
     "output_type": "stream",
     "text": [
      "Enter your text here:racecar\n"
     ]
    },
    {
     "data": {
      "text/plain": [
       "True"
      ]
     },
     "execution_count": 5,
     "metadata": {},
     "output_type": "execute_result"
    }
   ],
   "source": [
    "#Exercise 5: Check for Palindrome\n",
    "\n",
    "#function taking input as text\n",
    "def is_palindrome(text):\n",
    "    #Making all text in same case\n",
    "    text=text.lower()\n",
    "    #Removing all spaces and comma\n",
    "    text=text.replace(\" \", \"\")\n",
    "    text=text.replace(\",\", \"\")\n",
    "    #Revering the text\n",
    "    rev = text[::-1]\n",
    "    #Comparing the original with reverse text\n",
    "    return True if text==rev else False\n",
    "        \n",
    "#Enter text input to check if palindrome or not\n",
    "text = input(\"Enter your text here:\")\n",
    "\n",
    "is_palindrome(text)"
   ]
  },
  {
   "cell_type": "code",
   "execution_count": null,
   "metadata": {},
   "outputs": [],
   "source": []
  }
 ],
 "metadata": {
  "kernelspec": {
   "display_name": "Python 3",
   "language": "python",
   "name": "python3"
  },
  "language_info": {
   "codemirror_mode": {
    "name": "ipython",
    "version": 3
   },
   "file_extension": ".py",
   "mimetype": "text/x-python",
   "name": "python",
   "nbconvert_exporter": "python",
   "pygments_lexer": "ipython3",
   "version": "3.8.5"
  }
 },
 "nbformat": 4,
 "nbformat_minor": 4
}
