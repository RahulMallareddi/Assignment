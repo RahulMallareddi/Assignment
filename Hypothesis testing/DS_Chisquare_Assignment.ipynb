{
 "cells": [
  {
   "cell_type": "markdown",
   "metadata": {},
   "source": [
    "### Background:\n",
    "\n",
    "Mizzare Corporation has collected data on customer satisfaction levels for two types of smart home devices: Smart Thermostats and Smart Lights. They want to determine if there's a significant association between the type of device purchased and the customer's satisfaction level.\n",
    "\n",
    "### Data Provided:\n",
    "\n",
    "The data is summarized in a contingency table showing the counts of customers in each satisfaction level for both types of devices:\n",
    "\n",
    "    Satisfaction        Smart Thermostat        Smart Light        Total\n",
    "    Very Satisfied      50                      70                 120\n",
    "    Satisfied           80                      100                180\n",
    "    Neutral             60                      90                 150\n",
    "    Unsatisfied         30                      50                 80\n",
    "    Very Unsatisfied    20                      50                 70\n",
    "    Total               240                     360                600\n",
    "\n",
    "### Objective:\n",
    "\n",
    "To use the Chi-Square test for independence to determine if there's a significant association between the type of smart home device purchased (Smart Thermostats vs. Smart Lights) and the customer satisfaction level.\n"
   ]
  },
  {
   "cell_type": "markdown",
   "metadata": {},
   "source": [
    "### State the Hypotheses statement\n",
    "\n",
    "Null Hypothesis (H0): Independent (There is no association between smart home device purchased and the customer satisfaction level)\n",
    "\n",
    "Alternative Hypothesis (Ha): Dependent (There is an association between smart home device purchased and the customer satisfaction level)"
   ]
  },
  {
   "cell_type": "code",
   "execution_count": 1,
   "metadata": {},
   "outputs": [
    {
     "name": "stdout",
     "output_type": "stream",
     "text": [
      "(5.638227513227513, 0.22784371130697179, 4, array([[ 48.,  72.],\n",
      "       [ 72., 108.],\n",
      "       [ 60.,  90.],\n",
      "       [ 32.,  48.],\n",
      "       [ 28.,  42.]]))\n",
      "p value is  0.22784371130697179\n",
      "Independent (H0 holds true)\n"
     ]
    }
   ],
   "source": [
    "# Perform Chi-Square test of independance\n",
    "\n",
    "from scipy.stats import chi2_contingency\n",
    "\n",
    "# defining the table\n",
    "d = [[50, 70], [80, 100], [60, 90], [30, 50], [20, 50]]\n",
    "\n",
    "print(chi2_contingency(d, correction=False))\n",
    "stat, p, dof, expected = chi2_contingency(d, correction=False)\n",
    "\n",
    "# interpret p-value\n",
    "alpha = 0.05\n",
    "print(\"p value is \",  p)\n",
    "if p < alpha:\n",
    "    print('Dependent (reject H0)')\n",
    "else:\n",
    "    print('Independent (H0 holds true)')"
   ]
  },
  {
   "cell_type": "markdown",
   "metadata": {},
   "source": [
    "**There is no association between smart home device purchased and the customer satisfaction level.**"
   ]
  },
  {
   "cell_type": "code",
   "execution_count": null,
   "metadata": {},
   "outputs": [],
   "source": []
  }
 ],
 "metadata": {
  "kernelspec": {
   "display_name": "Python 3",
   "language": "python",
   "name": "python3"
  },
  "language_info": {
   "codemirror_mode": {
    "name": "ipython",
    "version": 3
   },
   "file_extension": ".py",
   "mimetype": "text/x-python",
   "name": "python",
   "nbconvert_exporter": "python",
   "pygments_lexer": "ipython3",
   "version": "3.8.5"
  }
 },
 "nbformat": 4,
 "nbformat_minor": 4
}
