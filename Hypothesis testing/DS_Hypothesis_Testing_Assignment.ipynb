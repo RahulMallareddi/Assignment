{
 "cells": [
  {
   "cell_type": "markdown",
   "metadata": {},
   "source": [
    "### Background:\n",
    "Bombay hospitality Ltd. operates a franchise model for producing exotic Norwegian dinners throughout New England. The operating cost for a franchise in a week (W) is given by the equation W = $1,000 + $5X, where X represents the number of units produced in a week. Recent feedback from restaurant owners suggests that this cost model may no longer be accurate, as their observed weekly operating costs are higher.\n",
    "\n",
    "### Objective:\n",
    "To investigate the restaurant owners' claim about the increase in weekly operating costs using hypothesis testing.\n",
    "\n",
    "### Data Provided:\n",
    "\n",
    " - The theoretical weekly operating cost model: W = $1,000 + $5X\n",
    " - Sample of 25 restaurants with a mean weekly cost of Rs. 3,050\n",
    " - Number of units produced in a week (X) follows a normal distribution with a mean (μ) of 600 units and a standard deviation (σ) of 25 units\n"
   ]
  },
  {
   "cell_type": "markdown",
   "metadata": {},
   "source": [
    "### State the Hypotheses statement\n",
    "Null Hypothesis (H0): There is no increase in weekly operating costs.  (μ ≤ 4000)\n",
    "\n",
    "Alternative Hypothesis (Ha): There is an increase in weekly operating costs. (μ > 4000)\n",
    "\n",
    "This is a right-tailed test because the alternative hypothesis is looking for an increase in the average monthly revenue, which indicates an improvement."
   ]
  },
  {
   "cell_type": "code",
   "execution_count": 1,
   "metadata": {},
   "outputs": [],
   "source": [
    "import numpy as np\n",
    "from scipy import stats"
   ]
  },
  {
   "cell_type": "code",
   "execution_count": 2,
   "metadata": {},
   "outputs": [
    {
     "name": "stdout",
     "output_type": "stream",
     "text": [
      "Fail to reject H0, There is an increase in weekly operating costs.\n"
     ]
    }
   ],
   "source": [
    "# Given values for the new methodology impact\n",
    "x_bar = 3050  # sample mean weekly costs\n",
    "std = 5*25  # standard deviation\n",
    "n = 25  # number of sample\n",
    "mu = 1000 + (5*600)  # theoretical mean weekly cost according to the cost model (W = $1,000 + $5X for X = 600 units)\n",
    "\n",
    "# Calculate the t-statistic for the new methodology impact\n",
    "t_statistic = (x_bar - mu) / (std / (n ** 0.5))\n",
    "\n",
    "# Calculate the degrees of freedom\n",
    "dof = n - 1\n",
    "\n",
    "# Calculate the p-value for the right-tailed test\n",
    "p_value = 1 - stats.t.cdf(t_statistic, dof)\n",
    "\n",
    "#decision\n",
    "if p_value < 0.05:\n",
    "    print(\"Rejected H0, There is no increase in weekly operating costs.\")\n",
    "else:\n",
    "    print(\"Fail to reject H0, There is an increase in weekly operating costs.\")"
   ]
  },
  {
   "cell_type": "markdown",
   "metadata": {},
   "source": [
    "**The Owner claim of increase in weekly operating costs is valid.**"
   ]
  },
  {
   "cell_type": "code",
   "execution_count": null,
   "metadata": {},
   "outputs": [],
   "source": []
  }
 ],
 "metadata": {
  "kernelspec": {
   "display_name": "Python 3",
   "language": "python",
   "name": "python3"
  },
  "language_info": {
   "codemirror_mode": {
    "name": "ipython",
    "version": 3
   },
   "file_extension": ".py",
   "mimetype": "text/x-python",
   "name": "python",
   "nbconvert_exporter": "python",
   "pygments_lexer": "ipython3",
   "version": "3.8.5"
  }
 },
 "nbformat": 4,
 "nbformat_minor": 4
}
